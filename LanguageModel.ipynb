{
 "cells": [
  {
   "cell_type": "markdown",
   "metadata": {},
   "source": [
    "\n",
    "\n",
    "# Character-level language model\n",
    "\n",
    "In this notebook, we train a language model on a small corpus and use it to generate new text in the same style. We are defining the conditional probability of the next character in a sequence given characters up until the current time. To do this we will use an LSTM."
   ]
  },
  {
   "cell_type": "code",
   "execution_count": 1,
   "metadata": {},
   "outputs": [],
   "source": [
    "import torch\n",
    "from torch.utils.data import Dataset, DataLoader\n",
    "from torch import nn, optim\n",
    "import numpy as np\n",
    "import matplotlib.pyplot as plt\n",
    "\n",
    "# replace with your own root directory\n",
    "ROOT=\"./\""
   ]
  },
  {
   "cell_type": "markdown",
   "metadata": {},
   "source": [
    "Convert characters from the text corpus into tokens from a fixed *vocabulary*.  Convert upper case letters to lower case. Characters other than letters, full-stop and space will be omitted (e.g. other punctuation, mumerical digits).  We will then use a one-hot encoding for each token as input to the RNN."
   ]
  },
  {
   "cell_type": "code",
   "execution_count": 2,
   "metadata": {},
   "outputs": [],
   "source": [
    "# character encoding: lower case letters, full-stop and space.\n",
    "chars = 'abcdefghijklmnopqrstuvwxyz. '\n",
    "input_size = len(chars)  # for one-hot encoding\n",
    "\n",
    "# define a mapping from char to integer (token index) and vice versa\n",
    "char_to_int = {}    # ensure the dictionaries are empty\n",
    "int_to_char = {}\n",
    "char_to_int = dict((c, i) for i, c in enumerate(chars))\n",
    "int_to_char = dict((i, c) for i, c in enumerate(chars))\n",
    "\n",
    "def tokenize(data):\n",
    "    # tokenize text string\n",
    "    \n",
    "    # convert to lower case\n",
    "    data = data.lower()\n",
    "    \n",
    "    # integer encode (tokenize) each character; -1 if not in chars, drop these\n",
    "    idx = torch.tensor([char_to_int.get(char,-1) for char in data], dtype=torch.long)\n",
    "    idx = idx[idx != -1]  \n",
    "    return idx\n",
    "\n",
    "def onehot(idx, input_size):\n",
    "    # convert to one-hot form (batch_size x sequence_length x input_size).\n",
    "    # works for any tensor size and adds one-hot encoding of indices as a new dimension at the end\n",
    "    inputs = torch.eye(input_size,dtype=int)[idx]      \n",
    "    inputs = inputs.float()\n",
    "    return inputs\n"
   ]
  },
  {
   "cell_type": "markdown",
   "metadata": {},
   "source": [
    "To use the PyTorch data loader facilities, we need to define a new dataset to access the text corpus."
   ]
  },
  {
   "cell_type": "code",
   "execution_count": 3,
   "metadata": {},
   "outputs": [],
   "source": [
    "class Alice(Dataset):\n",
    "    \"\"\" Alice in Wonderland custom dataset \"\"\"\n",
    "    \n",
    "    def __init__(self, size):\n",
    "        # read in the text and tokenize\n",
    "        f = open(ROOT + 'alice_in_wonderland.txt')\n",
    "        data = f.read()\n",
    "        self.idx = tokenize(data)     \n",
    "        self.size = size    # the size of text windows to be used in training\n",
    "\n",
    "    def __getitem__(self, index):\n",
    "        \"\"\" Returns one data item (token sequence of the given size) \"\"\"\n",
    "        return self.idx[index:(index+self.size)]\n",
    "        \n",
    "    def __len__(self):\n",
    "        return len(self.idx) - self.size\n",
    "    \n",
    "dataset = Alice(50)\n",
    "train_dataloader = DataLoader(dataset, batch_size=64, shuffle=True)"
   ]
  },
  {
   "cell_type": "markdown",
   "metadata": {},
   "source": [
    "Define the network. This is an LSTM followed by a fully connected layer."
   ]
  },
  {
   "cell_type": "code",
   "execution_count": 7,
   "metadata": {},
   "outputs": [
    {
     "name": "stdout",
     "output_type": "stream",
     "text": [
      "torch.Size([512, 28])\n",
      "torch.Size([512, 128])\n",
      "torch.Size([512])\n",
      "torch.Size([512])\n",
      "torch.Size([28, 128])\n",
      "torch.Size([28])\n"
     ]
    }
   ],
   "source": [
    "class MyRNN(nn.Module):\n",
    "    def __init__(self, input_size):\n",
    "        super(MyRNN, self).__init__()\n",
    "        \n",
    "        # single LSTM layer, with dropout(0.5)\n",
    "        self.lstm = nn.LSTM(input_size=input_size, hidden_size=128, num_layers=1, batch_first=True)\n",
    "        self.dropout = nn.Dropout(0.2)\n",
    "        self.linear = nn.Linear(128,input_size)\n",
    "        \n",
    "    def forward(self, input, zero_hidden = True):\n",
    "        if zero_hidden:\n",
    "            # hidden state defaults to zero\n",
    "            output, hiddens = self.lstm(input)    \n",
    "        else:\n",
    "            # use the hidden state stored from previous invocation\n",
    "            output, hiddens = self.lstm(input, self.hiddens)    \n",
    "        \n",
    "        # update stored hidden state for future invocation\n",
    "        self.hiddens = hiddens\n",
    "        \n",
    "        output = self.dropout(output)\n",
    "        output = self.linear(output)\n",
    "        return output\n",
    "                    \n",
    "net = MyRNN(input_size) \n",
    "\n",
    "for param in net.parameters():\n",
    "    print(param.shape)"
   ]
  },
  {
   "cell_type": "markdown",
   "metadata": {},
   "source": [
    "Train the network. Each window of text is trimmed by one token at the start for input and one token at the end for the target. This trains the network to predict the next character from all previous characters in the window.\n",
    "\n",
    "`nn.LSTM` will roll-out the LSTM to operate on the given sequence. We don't need to do this explicitly. Likewise, `nn.Linear` operates independently on each time step in the time dimension. "
   ]
  },
  {
   "cell_type": "code",
   "execution_count": null,
   "metadata": {},
   "outputs": [],
   "source": [
    "nepochs = 50\n",
    "results_path = ROOT+'epochs50hidden128adam.pt'\n",
    "losses = np.zeros(nepochs)\n",
    "\n",
    "loss_fn = nn.CrossEntropyLoss()\n",
    "optimizer = optim.Adam(net.parameters())\n",
    "\n",
    "net.train()    # to be sure we are in training mode\n",
    "for epoch in range(nepochs):  # loop over the dataset multiple times\n",
    "\n",
    "    running_loss = 0.0\n",
    "    n = 0\n",
    "    for i, idx in enumerate(train_dataloader, 0):\n",
    "        \n",
    "        inputs = onehot(idx, input_size)\n",
    "        \n",
    "        # trim to advance target by one timestep whilst keeping input and target sequences the same length\n",
    "        inputs = inputs[:,:-1,:]\n",
    "        targets = idx[:,1:]\n",
    "        \n",
    "         # Zero the parameter gradients\n",
    "        optimizer.zero_grad()\n",
    "\n",
    "        # Forward, backward, and update parameters\n",
    "        outputs = net(inputs)    # initial hidden state will default to zero\n",
    "        loss = loss_fn(outputs.transpose(1,2), targets)\n",
    "        loss.backward()\n",
    "        optimizer.step()\n",
    "    \n",
    "        # accumulate loss\n",
    "        running_loss += loss.item()\n",
    "        n += 1\n",
    "       \n",
    "    losses[epoch] = meanloss = running_loss / n\n",
    "    print(f\"epoch: {epoch+1} loss: {meanloss : .3f}\")\n",
    "    \n",
    "# save network parameters and losses\n",
    "torch.save({\"state_dict\": net.state_dict(), \"losses\": losses}, results_path)\n",
    "   "
   ]
  },
  {
   "cell_type": "markdown",
   "metadata": {},
   "source": [
    "Generate novel text primed by the given prior text.\n",
    "\n",
    "Run the model repeatedly on the currently generated text, starting with the given prior text.\n",
    "Select the maximum probability token as the next token in the sequence.\n",
    "\n",
    "In subsequent runs of the model, only input the most recently selected token since we use the final hidden state and cell state from the previous run to provide the history. "
   ]
  },
  {
   "cell_type": "code",
   "execution_count": 21,
   "metadata": {},
   "outputs": [
    {
     "name": "stdout",
     "output_type": "stream",
     "text": [
      "The india what a little party eneandly  the rabbit said alice said the caterpillar and it was the little golden key and the hatter was a little bit she said to herself in and the mock turtle she things was that\n"
     ]
    }
   ],
   "source": [
    "# restore model parameters and losses\n",
    "results_path = ROOT+'epochs50hidden128adam.pt'\n",
    "data = torch.load(results_path)\n",
    "net.load_state_dict(data[\"state_dict\"])\n",
    "\n",
    "# set prior text\n",
    "pretext = 'The india '\n",
    "idx = tokenize(pretext)    # initialise token sequence and generated sequence\n",
    "gen_length = 200    # length of generated text\n",
    "output = pretext    # initialise output text\n",
    "\n",
    "# sample from the network.\n",
    "zero_hidden = True    # initialise hidden state to zero for the first time through\n",
    "net.eval()    # set eval mode so that dropout is omitted by the module\n",
    "with torch.no_grad():    # turn off gradient calculations for the evaluation\n",
    "    for i in range(gen_length):\n",
    "        \n",
    "        inputs = onehot(idx, input_size)\n",
    "        inputs = torch.unsqueeze(inputs,0) # add batch dimension of size 1: 1 x len(idx) x input_size\n",
    "        \n",
    "        outputs = net(inputs, zero_hidden)\n",
    "        _, predicted = torch.max(outputs, 2)\n",
    "        \n",
    "        token = predicted[0,-1].item()    # extract final predicted token as input for next timestep\n",
    "        output = output + int_to_char[token]       # decode token and append to output\n",
    "        idx = torch.tensor([token])    # input sequence consisting of a single time step\n",
    "        zero_hidden = False               # pass on the hidden state in future iterations\n",
    "          \n",
    "print(output)   "
   ]
  },
  {
   "cell_type": "markdown",
   "metadata": {},
   "source": [
    "Plot the mean loss after each epoch."
   ]
  },
  {
   "cell_type": "code",
   "execution_count": 5,
   "metadata": {},
   "outputs": [
    {
     "data": {
      "image/png": "[encoded data removed]",
      "text/plain": [
       "<Figure size 432x288 with 1 Axes>"
      ]
     },
     "metadata": {
      "needs_background": "light"
     },
     "output_type": "display_data"
    }
   ],
   "source": [
    "# restore model parameters and losses\n",
    "results_path = ROOT+'epochs50hidden128adam.pt'\n",
    "data = torch.load(results_path)\n",
    "losses = data[\"losses\"]\n",
    "\n",
    "plt.plot(losses, 'r')\n",
    "plt.xlabel('epoch')\n",
    "plt.ylabel('loss')\n",
    "plt.title('Training loss on Alice in Wonderland dataset' )\n",
    "plt.show()"
   ]
  },
  {
   "cell_type": "markdown",
   "metadata": {},
   "source": [
    "## Optional exercises\n",
    "1. Retrain the model using a vanilla RNN and see what happens to the quality of the language model.\n",
    "2. Add a second LSTM layer and train on a larger body of text. Does this improve the quality of the generated text?"
   ]
  },
  {
   "cell_type": "code",
   "execution_count": null,
   "metadata": {},
   "outputs": [],
   "source": []
  }
 ],
 "metadata": {
  "kernelspec": {
   "display_name": "Python 3.9.13 ('base')",
   "language": "python",
   "name": "python3"
  },
  "language_info": {
   "codemirror_mode": {
    "name": "ipython",
    "version": 3
   },
   "file_extension": ".py",
   "mimetype": "text/x-python",
   "name": "python",
   "nbconvert_exporter": "python",
   "pygments_lexer": "ipython3",
   "version": "3.9.13"
  },
  "vscode": {
   "interpreter": {
    "hash": "c6e4e9f98eb68ad3b7c296f83d20e6de614cb42e90992a65aa266555a3137d0d"
   }
  }
 },
 "nbformat": 4,
 "nbformat_minor": 4
}
